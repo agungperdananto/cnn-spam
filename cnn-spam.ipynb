{
 "cells": [
  {
   "cell_type": "code",
   "execution_count": 10,
   "metadata": {},
   "outputs": [
    {
     "name": "stdout",
     "output_type": "stream",
     "text": [
      "spam.csv\n",
      "\n"
     ]
    }
   ],
   "source": [
    "import numpy as np\n",
    "import pandas as pd\n",
    "\n",
    "from subprocess import check_output\n",
    "print(check_output([\"ls\", \"input\"]).decode(\"utf8\"))"
   ]
  },
  {
   "cell_type": "code",
   "execution_count": 9,
   "metadata": {},
   "outputs": [
    {
     "name": "stdout",
     "output_type": "stream",
     "text": [
      "     v1                                                 v2 Unnamed: 2  \\\n",
      "0   ham  Go until jurong point, crazy.. Available only ...        NaN   \n",
      "1   ham                      Ok lar... Joking wif u oni...        NaN   \n",
      "2  spam  Free entry in 2 a wkly comp to win FA Cup fina...        NaN   \n",
      "3   ham  U dun say so early hor... U c already then say...        NaN   \n",
      "4   ham  Nah I don't think he goes to usf, he lives aro...        NaN   \n",
      "\n",
      "  Unnamed: 3 Unnamed: 4  \n",
      "0        NaN        NaN  \n",
      "1        NaN        NaN  \n",
      "2        NaN        NaN  \n",
      "3        NaN        NaN  \n",
      "4        NaN        NaN  \n"
     ]
    },
    {
     "name": "stderr",
     "output_type": "stream",
     "text": [
      "Using TensorFlow backend.\n"
     ]
    },
    {
     "name": "stdout",
     "output_type": "stream",
     "text": [
      "import done\n"
     ]
    }
   ],
   "source": [
    "DATA_FILE = 'input/spam.csv'\n",
    "df = pd.read_csv(DATA_FILE,encoding='latin-1')\n",
    "print(df.head())\n",
    "\n",
    "tags = df.v1\n",
    "texts = df.v2\n",
    "from keras.models import Sequential\n",
    "from keras.layers import Dense, Dropout, Activation\n",
    "from keras.layers import Embedding\n",
    "from keras.layers import Conv1D, GlobalMaxPooling1D\n",
    "from keras.preprocessing.text import Tokenizer\n",
    "from keras.preprocessing import sequence\n",
    "from sklearn.preprocessing import LabelEncoder\n",
    "import time\n",
    "from keras import metrics\n",
    "print('import done')"
   ]
  },
  {
   "cell_type": "code",
   "execution_count": 11,
   "metadata": {},
   "outputs": [
    {
     "name": "stdout",
     "output_type": "stream",
     "text": [
      "[0 0 1 0 0]\n",
      "[[0. 0. 0. ... 0. 0. 0.]\n",
      " [0. 0. 0. ... 0. 0. 0.]\n",
      " [0. 0. 3. ... 0. 0. 0.]\n",
      " [0. 0. 0. ... 0. 0. 0.]\n",
      " [0. 1. 1. ... 0. 0. 0.]]\n",
      "(5572,) (5572, 1000)\n"
     ]
    }
   ],
   "source": [
    "num_max = 1000\n",
    "# preprocess\n",
    "le = LabelEncoder()\n",
    "tags = le.fit_transform(tags)\n",
    "tok = Tokenizer(num_words=num_max)\n",
    "tok.fit_on_texts(texts)\n",
    "mat_texts = tok.texts_to_matrix(texts,mode='count')\n",
    "print(tags[:5])\n",
    "print(mat_texts[:5])\n",
    "print(tags.shape,mat_texts.shape)\n"
   ]
  },
  {
   "cell_type": "code",
   "execution_count": 12,
   "metadata": {},
   "outputs": [
    {
     "name": "stdout",
     "output_type": "stream",
     "text": [
      "_________________________________________________________________\n",
      "Layer (type)                 Output Shape              Param #   \n",
      "=================================================================\n",
      "dense_1 (Dense)              (None, 512)               512512    \n",
      "_________________________________________________________________\n",
      "dropout_1 (Dropout)          (None, 512)               0         \n",
      "_________________________________________________________________\n",
      "dense_2 (Dense)              (None, 256)               131328    \n",
      "_________________________________________________________________\n",
      "dropout_2 (Dropout)          (None, 256)               0         \n",
      "_________________________________________________________________\n",
      "dense_3 (Dense)              (None, 1)                 257       \n",
      "=================================================================\n",
      "Total params: 644,097\n",
      "Trainable params: 644,097\n",
      "Non-trainable params: 0\n",
      "_________________________________________________________________\n",
      "compile done\n",
      "Train on 4457 samples, validate on 1115 samples\n",
      "Epoch 1/10\n",
      "4457/4457 [==============================] - 2s 376us/step - loss: 0.1605 - acc: 0.9520 - binary_accuracy: 0.9520 - val_loss: 0.0664 - val_acc: 0.9848 - val_binary_accuracy: 0.9848\n",
      "Epoch 2/10\n",
      "4457/4457 [==============================] - 1s 203us/step - loss: 0.0297 - acc: 0.9901 - binary_accuracy: 0.9901 - val_loss: 0.0655 - val_acc: 0.9857 - val_binary_accuracy: 0.9857\n",
      "Epoch 3/10\n",
      "4457/4457 [==============================] - 1s 205us/step - loss: 0.0071 - acc: 0.9975 - binary_accuracy: 0.9975 - val_loss: 0.0853 - val_acc: 0.9883 - val_binary_accuracy: 0.9883\n",
      "Epoch 4/10\n",
      "4457/4457 [==============================] - 1s 219us/step - loss: 0.0039 - acc: 0.9989 - binary_accuracy: 0.9989 - val_loss: 0.0874 - val_acc: 0.9874 - val_binary_accuracy: 0.9874\n",
      "Epoch 5/10\n",
      "4457/4457 [==============================] - 1s 216us/step - loss: 0.0026 - acc: 0.9996 - binary_accuracy: 0.9996 - val_loss: 0.0909 - val_acc: 0.9883 - val_binary_accuracy: 0.9883\n",
      "Epoch 6/10\n",
      "4457/4457 [==============================] - 1s 206us/step - loss: 0.0018 - acc: 0.9998 - binary_accuracy: 0.9998 - val_loss: 0.0964 - val_acc: 0.9883 - val_binary_accuracy: 0.9883\n",
      "Epoch 7/10\n",
      "4457/4457 [==============================] - 1s 207us/step - loss: 0.0014 - acc: 0.9998 - binary_accuracy: 0.9998 - val_loss: 0.1026 - val_acc: 0.9883 - val_binary_accuracy: 0.9883\n",
      "Epoch 8/10\n",
      "4457/4457 [==============================] - 1s 209us/step - loss: 0.0015 - acc: 0.9998 - binary_accuracy: 0.9998 - val_loss: 0.1033 - val_acc: 0.9865 - val_binary_accuracy: 0.9865\n",
      "Epoch 9/10\n",
      "4457/4457 [==============================] - 1s 220us/step - loss: 0.0014 - acc: 0.9998 - binary_accuracy: 0.9998 - val_loss: 0.1088 - val_acc: 0.9892 - val_binary_accuracy: 0.9892\n",
      "Epoch 10/10\n",
      "4457/4457 [==============================] - 1s 215us/step - loss: 0.0015 - acc: 0.9998 - binary_accuracy: 0.9998 - val_loss: 0.1106 - val_acc: 0.9865 - val_binary_accuracy: 0.9865\n"
     ]
    }
   ],
   "source": [
    "# try a simple model first\n",
    "\n",
    "def get_simple_model():\n",
    "    model = Sequential()\n",
    "    model.add(Dense(512, activation='relu', input_shape=(num_max,)))\n",
    "    model.add(Dropout(0.2))\n",
    "    model.add(Dense(256, activation='relu'))\n",
    "    model.add(Dropout(0.2))\n",
    "    model.add(Dense(1, activation='sigmoid'))\n",
    "    model.summary()\n",
    "    model.compile(loss='binary_crossentropy',\n",
    "              optimizer='adam',\n",
    "              metrics=['acc',metrics.binary_accuracy])\n",
    "    print('compile done')\n",
    "    return model\n",
    "\n",
    "def check_model(model,x,y):\n",
    "    model.fit(x,y,batch_size=32,epochs=10,verbose=1,validation_split=0.2)\n",
    "\n",
    "m = get_simple_model()\n",
    "check_model(m,mat_texts,tags)"
   ]
  },
  {
   "cell_type": "code",
   "execution_count": 14,
   "metadata": {},
   "outputs": [
    {
     "name": "stdout",
     "output_type": "stream",
     "text": [
      "[50, 469, 841, 751, 657, 64, 8, 89, 121, 349, 147, 67, 58, 144]\n",
      "[  0   0   0   0   0   0   0   0   0   0   0   0   0   0   0   0   0   0\n",
      "   0   0   0   0   0   0   0   0   0   0   0   0   0   0   0   0   0   0\n",
      "   0   0   0   0   0   0   0   0   0   0   0   0   0   0   0   0   0   0\n",
      "   0   0   0   0   0   0   0   0   0   0   0   0   0   0   0   0   0   0\n",
      "   0   0   0   0   0   0   0   0   0   0   0   0   0   0  50 469 841 751\n",
      " 657  64   8  89 121 349 147  67  58 144]\n",
      "(5572, 100)\n"
     ]
    }
   ],
   "source": [
    "# for cnn preproces\n",
    "max_len = 100\n",
    "cnn_texts_seq = tok.texts_to_sequences(texts)\n",
    "print(cnn_texts_seq[0])\n",
    "cnn_texts_mat = sequence.pad_sequences(cnn_texts_seq,maxlen=max_len)\n",
    "print(cnn_texts_mat[0])\n",
    "print(cnn_texts_mat.shape)"
   ]
  },
  {
   "cell_type": "code",
   "execution_count": 15,
   "metadata": {},
   "outputs": [
    {
     "name": "stdout",
     "output_type": "stream",
     "text": [
      "_________________________________________________________________\n",
      "Layer (type)                 Output Shape              Param #   \n",
      "=================================================================\n",
      "embedding_1 (Embedding)      (None, 100, 20)           20000     \n",
      "_________________________________________________________________\n",
      "dropout_3 (Dropout)          (None, 100, 20)           0         \n",
      "_________________________________________________________________\n",
      "conv1d_1 (Conv1D)            (None, 98, 64)            3904      \n",
      "_________________________________________________________________\n",
      "global_max_pooling1d_1 (Glob (None, 64)                0         \n",
      "_________________________________________________________________\n",
      "dense_4 (Dense)              (None, 256)               16640     \n",
      "_________________________________________________________________\n",
      "dropout_4 (Dropout)          (None, 256)               0         \n",
      "_________________________________________________________________\n",
      "activation_1 (Activation)    (None, 256)               0         \n",
      "_________________________________________________________________\n",
      "dense_5 (Dense)              (None, 1)                 257       \n",
      "_________________________________________________________________\n",
      "activation_2 (Activation)    (None, 1)                 0         \n",
      "=================================================================\n",
      "Total params: 40,801\n",
      "Trainable params: 40,801\n",
      "Non-trainable params: 0\n",
      "_________________________________________________________________\n",
      "Train on 4457 samples, validate on 1115 samples\n",
      "Epoch 1/10\n",
      "4457/4457 [==============================] - 2s 412us/step - loss: 0.3960 - acc: 0.8602 - binary_accuracy: 0.8602 - val_loss: 0.3006 - val_acc: 0.8700 - val_binary_accuracy: 0.8700\n",
      "Epoch 2/10\n",
      "4457/4457 [==============================] - 1s 283us/step - loss: 0.2352 - acc: 0.8977 - binary_accuracy: 0.8977 - val_loss: 0.1501 - val_acc: 0.9543 - val_binary_accuracy: 0.9543\n",
      "Epoch 3/10\n",
      "4457/4457 [==============================] - 1s 288us/step - loss: 0.0782 - acc: 0.9778 - binary_accuracy: 0.9778 - val_loss: 0.0630 - val_acc: 0.9785 - val_binary_accuracy: 0.9785\n",
      "Epoch 4/10\n",
      "4457/4457 [==============================] - 1s 284us/step - loss: 0.0397 - acc: 0.9886 - binary_accuracy: 0.9886 - val_loss: 0.0579 - val_acc: 0.9803 - val_binary_accuracy: 0.9803\n",
      "Epoch 5/10\n",
      "4457/4457 [==============================] - 1s 292us/step - loss: 0.0237 - acc: 0.9937 - binary_accuracy: 0.9937 - val_loss: 0.0625 - val_acc: 0.9785 - val_binary_accuracy: 0.9785\n",
      "Epoch 6/10\n",
      "4457/4457 [==============================] - 1s 289us/step - loss: 0.0157 - acc: 0.9955 - binary_accuracy: 0.9955 - val_loss: 0.0665 - val_acc: 0.9830 - val_binary_accuracy: 0.9830\n",
      "Epoch 7/10\n",
      "4457/4457 [==============================] - 1s 287us/step - loss: 0.0098 - acc: 0.9973 - binary_accuracy: 0.9973 - val_loss: 0.0734 - val_acc: 0.9803 - val_binary_accuracy: 0.9803\n",
      "Epoch 8/10\n",
      "4457/4457 [==============================] - 1s 289us/step - loss: 0.0081 - acc: 0.9978 - binary_accuracy: 0.9978 - val_loss: 0.0774 - val_acc: 0.9812 - val_binary_accuracy: 0.9812\n",
      "Epoch 9/10\n",
      "4457/4457 [==============================] - 1s 300us/step - loss: 0.0062 - acc: 0.9982 - binary_accuracy: 0.9982 - val_loss: 0.0755 - val_acc: 0.9839 - val_binary_accuracy: 0.9839\n",
      "Epoch 10/10\n",
      "4457/4457 [==============================] - 1s 289us/step - loss: 0.0058 - acc: 0.9987 - binary_accuracy: 0.9987 - val_loss: 0.0824 - val_acc: 0.9830 - val_binary_accuracy: 0.9830\n"
     ]
    }
   ],
   "source": [
    "def get_cnn_model_v1():   \n",
    "    model = Sequential()\n",
    "    # we start off with an efficient embedding layer which maps\n",
    "    # our vocab indices into embedding_dims dimensions\n",
    "    # 1000 is num_max\n",
    "    model.add(Embedding(1000,\n",
    "                        20,\n",
    "                        input_length=max_len))\n",
    "    model.add(Dropout(0.2))\n",
    "    model.add(Conv1D(64,\n",
    "                     3,\n",
    "                     padding='valid',\n",
    "                     activation='relu',\n",
    "                     strides=1))\n",
    "    model.add(GlobalMaxPooling1D())\n",
    "    model.add(Dense(256))\n",
    "    model.add(Dropout(0.2))\n",
    "    model.add(Activation('relu'))\n",
    "    model.add(Dense(1))\n",
    "    model.add(Activation('sigmoid'))\n",
    "    model.summary()\n",
    "    model.compile(loss='binary_crossentropy',\n",
    "                  optimizer='adam',\n",
    "                  metrics=['acc',metrics.binary_accuracy])\n",
    "    return model\n",
    "\n",
    "m = get_cnn_model_v1()\n",
    "check_model(m,cnn_texts_mat,tags)"
   ]
  },
  {
   "cell_type": "code",
   "execution_count": 16,
   "metadata": {},
   "outputs": [
    {
     "name": "stdout",
     "output_type": "stream",
     "text": [
      "_________________________________________________________________\n",
      "Layer (type)                 Output Shape              Param #   \n",
      "=================================================================\n",
      "embedding_2 (Embedding)      (None, 100, 50)           50000     \n",
      "_________________________________________________________________\n",
      "dropout_5 (Dropout)          (None, 100, 50)           0         \n",
      "_________________________________________________________________\n",
      "conv1d_2 (Conv1D)            (None, 98, 64)            9664      \n",
      "_________________________________________________________________\n",
      "global_max_pooling1d_2 (Glob (None, 64)                0         \n",
      "_________________________________________________________________\n",
      "dense_6 (Dense)              (None, 256)               16640     \n",
      "_________________________________________________________________\n",
      "dropout_6 (Dropout)          (None, 256)               0         \n",
      "_________________________________________________________________\n",
      "activation_3 (Activation)    (None, 256)               0         \n",
      "_________________________________________________________________\n",
      "dense_7 (Dense)              (None, 1)                 257       \n",
      "_________________________________________________________________\n",
      "activation_4 (Activation)    (None, 1)                 0         \n",
      "=================================================================\n",
      "Total params: 76,561\n",
      "Trainable params: 76,561\n",
      "Non-trainable params: 0\n",
      "_________________________________________________________________\n",
      "Train on 4457 samples, validate on 1115 samples\n",
      "Epoch 1/10\n",
      "4457/4457 [==============================] - 2s 514us/step - loss: 0.3620 - acc: 0.8661 - binary_accuracy: 0.8661 - val_loss: 0.2122 - val_acc: 0.9471 - val_binary_accuracy: 0.9471\n",
      "Epoch 2/10\n",
      "4457/4457 [==============================] - 2s 375us/step - loss: 0.0922 - acc: 0.9762 - binary_accuracy: 0.9762 - val_loss: 0.0556 - val_acc: 0.9812 - val_binary_accuracy: 0.9812\n",
      "Epoch 3/10\n",
      "4457/4457 [==============================] - 2s 363us/step - loss: 0.0378 - acc: 0.9908 - binary_accuracy: 0.9908 - val_loss: 0.0512 - val_acc: 0.9839 - val_binary_accuracy: 0.9839\n",
      "Epoch 4/10\n",
      "4457/4457 [==============================] - 2s 367us/step - loss: 0.0225 - acc: 0.9939 - binary_accuracy: 0.9939 - val_loss: 0.0541 - val_acc: 0.9848 - val_binary_accuracy: 0.9848\n",
      "Epoch 5/10\n",
      "4457/4457 [==============================] - 2s 364us/step - loss: 0.0124 - acc: 0.9971 - binary_accuracy: 0.9971 - val_loss: 0.0590 - val_acc: 0.9857 - val_binary_accuracy: 0.9857\n",
      "Epoch 6/10\n",
      "4457/4457 [==============================] - 2s 369us/step - loss: 0.0071 - acc: 0.9980 - binary_accuracy: 0.9980 - val_loss: 0.0624 - val_acc: 0.9848 - val_binary_accuracy: 0.9848\n",
      "Epoch 7/10\n",
      "4457/4457 [==============================] - 2s 373us/step - loss: 0.0045 - acc: 0.9989 - binary_accuracy: 0.9989 - val_loss: 0.0721 - val_acc: 0.9848 - val_binary_accuracy: 0.9848\n",
      "Epoch 8/10\n",
      "4457/4457 [==============================] - 2s 383us/step - loss: 0.0042 - acc: 0.9991 - binary_accuracy: 0.9991 - val_loss: 0.0771 - val_acc: 0.9821 - val_binary_accuracy: 0.9821\n",
      "Epoch 9/10\n",
      "4457/4457 [==============================] - 2s 385us/step - loss: 0.0029 - acc: 0.9996 - binary_accuracy: 0.9996 - val_loss: 0.0785 - val_acc: 0.9848 - val_binary_accuracy: 0.9848\n",
      "Epoch 10/10\n",
      "4457/4457 [==============================] - 2s 405us/step - loss: 0.0017 - acc: 0.9998 - binary_accuracy: 0.9998 - val_loss: 0.0806 - val_acc: 0.9848 - val_binary_accuracy: 0.9848\n"
     ]
    }
   ],
   "source": [
    "def get_cnn_model_v2(): # added embed   \n",
    "    model = Sequential()\n",
    "    # we start off with an efficient embedding layer which maps\n",
    "    # our vocab indices into embedding_dims dimensions\n",
    "    # 1000 is num_max\n",
    "    model.add(Embedding(1000,\n",
    "                        50, #!!!!!!!!!!!!!!!!!!!!!!!\n",
    "                        input_length=max_len))\n",
    "    model.add(Dropout(0.2))\n",
    "    model.add(Conv1D(64,\n",
    "                     3,\n",
    "                     padding='valid',\n",
    "                     activation='relu',\n",
    "                     strides=1))\n",
    "    model.add(GlobalMaxPooling1D())\n",
    "    model.add(Dense(256))\n",
    "    model.add(Dropout(0.2))\n",
    "    model.add(Activation('relu'))\n",
    "    model.add(Dense(1))\n",
    "    model.add(Activation('sigmoid'))\n",
    "    model.summary()\n",
    "    model.compile(loss='binary_crossentropy',\n",
    "                  optimizer='adam',\n",
    "                  metrics=['acc',metrics.binary_accuracy])\n",
    "    return model\n",
    "\n",
    "m = get_cnn_model_v2()\n",
    "check_model(m,cnn_texts_mat,tags)"
   ]
  },
  {
   "cell_type": "code",
   "execution_count": null,
   "metadata": {},
   "outputs": [
    {
     "name": "stdout",
     "output_type": "stream",
     "text": [
      "_________________________________________________________________\n",
      "Layer (type)                 Output Shape              Param #   \n",
      "=================================================================\n",
      "embedding_3 (Embedding)      (None, 100, 20)           20000     \n",
      "_________________________________________________________________\n",
      "dropout_7 (Dropout)          (None, 100, 20)           0         \n",
      "_________________________________________________________________\n",
      "conv1d_3 (Conv1D)            (None, 98, 256)           15616     \n",
      "_________________________________________________________________\n",
      "global_max_pooling1d_3 (Glob (None, 256)               0         \n",
      "_________________________________________________________________\n",
      "dense_8 (Dense)              (None, 256)               65792     \n",
      "_________________________________________________________________\n",
      "dropout_8 (Dropout)          (None, 256)               0         \n",
      "_________________________________________________________________\n",
      "activation_5 (Activation)    (None, 256)               0         \n",
      "_________________________________________________________________\n",
      "dense_9 (Dense)              (None, 1)                 257       \n",
      "_________________________________________________________________\n",
      "activation_6 (Activation)    (None, 1)                 0         \n",
      "=================================================================\n",
      "Total params: 101,665\n",
      "Trainable params: 101,665\n",
      "Non-trainable params: 0\n",
      "_________________________________________________________________\n",
      "Train on 4457 samples, validate on 1115 samples\n",
      "Epoch 1/10\n",
      "4457/4457 [==============================] - 4s 1ms/step - loss: 0.3645 - acc: 0.8604 - binary_accuracy: 0.8604 - val_loss: 0.2504 - val_acc: 0.8700 - val_binary_accuracy: 0.8700\n",
      "Epoch 2/10\n",
      "4457/4457 [==============================] - 4s 890us/step - loss: 0.1545 - acc: 0.9419 - binary_accuracy: 0.9419 - val_loss: 0.0761 - val_acc: 0.9767 - val_binary_accuracy: 0.9767\n",
      "Epoch 3/10\n",
      "4457/4457 [==============================] - 4s 902us/step - loss: 0.0478 - acc: 0.9838 - binary_accuracy: 0.9838 - val_loss: 0.0532 - val_acc: 0.9812 - val_binary_accuracy: 0.9812\n",
      "Epoch 4/10\n",
      "4457/4457 [==============================] - 4s 904us/step - loss: 0.0274 - acc: 0.9919 - binary_accuracy: 0.9919 - val_loss: 0.0560 - val_acc: 0.9839 - val_binary_accuracy: 0.9839\n",
      "Epoch 5/10\n",
      "4457/4457 [==============================] - 4s 921us/step - loss: 0.0168 - acc: 0.9946 - binary_accuracy: 0.9946 - val_loss: 0.0631 - val_acc: 0.9830 - val_binary_accuracy: 0.9830\n",
      "Epoch 6/10\n",
      "4457/4457 [==============================] - 4s 952us/step - loss: 0.0123 - acc: 0.9969 - binary_accuracy: 0.9969 - val_loss: 0.0816 - val_acc: 0.9803 - val_binary_accuracy: 0.9803\n",
      "Epoch 7/10\n",
      "4457/4457 [==============================] - 4s 960us/step - loss: 0.0088 - acc: 0.9973 - binary_accuracy: 0.9973 - val_loss: 0.0874 - val_acc: 0.9803 - val_binary_accuracy: 0.9803\n",
      "Epoch 8/10\n",
      "4457/4457 [==============================] - 4s 949us/step - loss: 0.0066 - acc: 0.9973 - binary_accuracy: 0.9973 - val_loss: 0.0996 - val_acc: 0.9794 - val_binary_accuracy: 0.9794\n",
      "Epoch 9/10\n",
      "4457/4457 [==============================] - 4s 952us/step - loss: 0.0039 - acc: 0.9987 - binary_accuracy: 0.9987 - val_loss: 0.1112 - val_acc: 0.9776 - val_binary_accuracy: 0.9776\n",
      "Epoch 10/10\n",
      "4224/4457 [===========================>..] - ETA: 0s - loss: 0.0029 - acc: 0.9995 - binary_accuracy: 0.9995"
     ]
    }
   ],
   "source": [
    "def get_cnn_model_v3():    # added filter\n",
    "    model = Sequential()\n",
    "    # we start off with an efficient embedding layer which maps\n",
    "    # our vocab indices into embedding_dims dimensions\n",
    "    # 1000 is num_max\n",
    "    model.add(Embedding(1000,\n",
    "                        20,\n",
    "                        input_length=max_len))\n",
    "    model.add(Dropout(0.2))\n",
    "    model.add(Conv1D(256, #!!!!!!!!!!!!!!!!!!!\n",
    "                     3,\n",
    "                     padding='valid',\n",
    "                     activation='relu',\n",
    "                     strides=1))\n",
    "    model.add(GlobalMaxPooling1D())\n",
    "    model.add(Dense(256))\n",
    "    model.add(Dropout(0.2))\n",
    "    model.add(Activation('relu'))\n",
    "    model.add(Dense(1))\n",
    "    model.add(Activation('sigmoid'))\n",
    "    model.summary()\n",
    "    model.compile(loss='binary_crossentropy',\n",
    "                  optimizer='adam',\n",
    "                  metrics=['acc',metrics.binary_accuracy])\n",
    "    return model\n",
    "\n",
    "m = get_cnn_model_v3()\n",
    "check_model(m,cnn_texts_mat,tags)\n"
   ]
  }
 ],
 "metadata": {
  "kernelspec": {
   "display_name": "Python 3",
   "language": "python",
   "name": "python3"
  },
  "language_info": {
   "codemirror_mode": {
    "name": "ipython",
    "version": 3
   },
   "file_extension": ".py",
   "mimetype": "text/x-python",
   "name": "python",
   "nbconvert_exporter": "python",
   "pygments_lexer": "ipython3",
   "version": "3.6.5"
  }
 },
 "nbformat": 4,
 "nbformat_minor": 2
}
